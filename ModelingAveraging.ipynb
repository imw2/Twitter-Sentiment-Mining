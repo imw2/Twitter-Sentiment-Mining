{
 "cells": [
  {
   "cell_type": "code",
   "execution_count": 1,
   "metadata": {},
   "outputs": [],
   "source": [
    "import pandas as pd\n",
    "from pandas import DataFrame\n",
    "import matplotlib.pyplot as plt\n",
    "from sklearn.model_selection import train_test_split\n",
    "from sklearn.preprocessing import StandardScaler\n",
    "from sklearn.ensemble import RandomForestClassifier\n",
    "from sklearn import metrics\n",
    "from sklearn.metrics import confusion_matrix\n",
    "import numpy as np\n",
    "from sklearn import model_selection\n",
    "import seaborn as sns"
   ]
  },
  {
   "cell_type": "code",
   "execution_count": 3,
   "metadata": {},
   "outputs": [],
   "source": [
    "def Average(lst):\n",
    "    return sum(lst)/len(lst)"
   ]
  },
  {
   "cell_type": "code",
   "execution_count": 9,
   "metadata": {},
   "outputs": [
    {
     "data": {
      "image/png": "[encoded data removed]",
      "text/plain": [
       "<Figure size 432x288 with 1 Axes>"
      ]
     },
     "metadata": {
      "needs_background": "light"
     },
     "output_type": "display_data"
    }
   ],
   "source": [
    "stocks = [\"amazon\",\"apple\",\"facebook\",\"google\",\"netflix\"]\n",
    "\n",
    "withTwitter = []\n",
    "withoutTwitter = []\n",
    "fitWithTwitter = []\n",
    "fitWithoutTwitter = []\n",
    "pos = []\n",
    "neg = []\n",
    "tot = []\n",
    "\n",
    "state = 0\n",
    "while state < 100:\n",
    "    for stock in stocks:\n",
    "        Stock_Prediction = pd.read_csv('faangStockTweets\\\\' + stock + '.csv')\n",
    "        Stock_Prediction = pd.DataFrame(Stock_Prediction).head(29)\n",
    "\n",
    "        ##############################WITH TWITTER DATA##############################################\n",
    "\n",
    "        X = Stock_Prediction.drop(['Stock_Date','Tweet_Date','change'],axis=1)\n",
    "        y = Stock_Prediction['change']\n",
    "        X_train, X_test, y_train, y_test = train_test_split(X, y, test_size=0.3,random_state=(state+10))\n",
    "\n",
    "\n",
    "\n",
    "        model = RandomForestClassifier(n_estimators = 4, criterion = 'entropy', random_state = state)\n",
    "        model.fit(X_train,y_train)\n",
    "        y_pred = model.predict(X_test)\n",
    "\n",
    "        cm = confusion_matrix(y_test, y_pred)\n",
    "        plt.clf()\n",
    "        plt.imshow(cm, interpolation='nearest', cmap=plt.cm.Wistia)\n",
    "        classNames = ['Decrease','Increase']\n",
    "        plt.title(stock + ' With Twitter Data')\n",
    "        plt.ylabel('True label')\n",
    "        plt.xlabel('Predicted label')\n",
    "        tick_marks = np.arange(len(classNames))\n",
    "        plt.xticks(tick_marks, classNames, rotation=45)\n",
    "        plt.yticks(tick_marks, classNames)\n",
    "        s = [['TN','FP'], ['FN', 'TP']]\n",
    "        for i in range(2):\n",
    "            for j in range(2):\n",
    "                plt.text(j,i, str(s[i][j])+\" = \"+str(cm[i][j]))\n",
    "        #plt.show()\n",
    "\n",
    "        fit = float(model.score(X_train,y_train))\n",
    "        fitWithTwitter.append(fit)\n",
    "        acc = float(metrics.accuracy_score(y_test,y_pred))\n",
    "        withTwitter.append(acc)\n",
    "\n",
    "        feature_imp = pd.Series(model.feature_importances_,index=X_train.columns).sort_values(ascending=False)\n",
    "        pos.append(feature_imp['Positive'])\n",
    "        neg.append(feature_imp['Negative'])\n",
    "        tot.append(feature_imp['Total'])\n",
    " \n",
    "        #############################WITHOUT TWITTER DATA########################################\n",
    "\n",
    "        X = Stock_Prediction.drop(['Stock_Date','Tweet_Date','change','Positive',\n",
    "                                  'Negative','Total'],axis=1)\n",
    "        y = Stock_Prediction['change']\n",
    "        X_train, X_test, y_train, y_test = train_test_split(X, y, test_size=0.3,random_state=(state+10))\n",
    "\n",
    "        model = RandomForestClassifier(n_estimators = 4, criterion = 'entropy', random_state = state)\n",
    "        model.fit(X_train,y_train)\n",
    "        y_pred = model.predict(X_test)\n",
    "\n",
    "        cm = confusion_matrix(y_test, y_pred)\n",
    "        plt.clf()\n",
    "        plt.imshow(cm, interpolation='nearest', cmap=plt.cm.Wistia)\n",
    "        classNames = ['Decrease','Increase']\n",
    "        plt.title(stock + ' Without Twitter Data')\n",
    "        plt.ylabel('True label')\n",
    "        plt.xlabel('Predicted label')\n",
    "        tick_marks = np.arange(len(classNames))\n",
    "        plt.xticks(tick_marks, classNames, rotation=45)\n",
    "        plt.yticks(tick_marks, classNames)\n",
    "        s = [['TN','FP'], ['FN', 'TP']]\n",
    "        for i in range(2):\n",
    "            for j in range(2):\n",
    "                plt.text(j,i, str(s[i][j])+\" = \"+str(cm[i][j]))\n",
    "        #plt.show()\n",
    "\n",
    "        fit = float(model.score(X_train,y_train))\n",
    "        fitWithoutTwitter.append(fit)\n",
    "        acc = float(metrics.accuracy_score(y_test,y_pred))\n",
    "        withoutTwitter.append(acc)\n",
    "\n",
    "    state += 1"
   ]
  },
  {
   "cell_type": "code",
   "execution_count": 10,
   "metadata": {},
   "outputs": [],
   "source": [
    "amazonWithTwitter = []\n",
    "appleWithTwitter = []\n",
    "facebookWithTwitter = []\n",
    "googleWithTwitter = []\n",
    "netflixWithTwitter = []\n",
    "amazonWithTwitter1 = []\n",
    "appleWithTwitter1 = []\n",
    "facebookWithTwitter1 = []\n",
    "googleWithTwitter1 = []\n",
    "netflixWithTwitter1 = []\n",
    "amazonPos = []\n",
    "applePos = []\n",
    "facebookPos = []\n",
    "googlePos = []\n",
    "netflixPos = []\n",
    "amazonNeg = []\n",
    "appleNeg = []\n",
    "facebookNeg = []\n",
    "googleNeg = []\n",
    "netflixNeg = []\n",
    "amazonTot = []\n",
    "appleTot = []\n",
    "facebookTot = []\n",
    "googleTot = []\n",
    "netflixTot = []\n",
    "\n",
    "amazonWithoutTwitter = []\n",
    "appleWithoutTwitter = []\n",
    "facebookWithoutTwitter = []\n",
    "googleWithoutTwitter = []\n",
    "netflixWithoutTwitter = []\n",
    "amazonWithoutTwitter1 = []\n",
    "appleWithoutTwitter1 = []\n",
    "facebookWithoutTwitter1 = []\n",
    "googleWithoutTwitter1 = []\n",
    "netflixWithoutTwitter1 = []\n",
    "\n",
    "x = 0\n",
    "while x < len(withTwitter):\n",
    "    if x%5 == 0:\n",
    "        amazonWithTwitter.append(withTwitter[x])\n",
    "        amazonWithoutTwitter.append(withoutTwitter[x])\n",
    "        amazonWithTwitter1.append(fitWithTwitter[x])\n",
    "        amazonWithoutTwitter1.append(fitWithoutTwitter[x])\n",
    "        amazonPos.append(pos[x])\n",
    "        amazonNeg.append(neg[x])\n",
    "        amazonTot.append(tot[x])\n",
    "    elif x%5 == 1:\n",
    "        appleWithTwitter.append(withTwitter[x])\n",
    "        appleWithoutTwitter.append(withoutTwitter[x])\n",
    "        appleWithTwitter1.append(fitWithTwitter[x])\n",
    "        appleWithoutTwitter1.append(fitWithoutTwitter[x])\n",
    "        applePos.append(pos[x])\n",
    "        appleNeg.append(neg[x])\n",
    "        appleTot.append(tot[x])\n",
    "    elif x%5 == 2:\n",
    "        facebookWithTwitter.append(withTwitter[x])\n",
    "        facebookWithoutTwitter.append(withoutTwitter[x])\n",
    "        facebookWithTwitter1.append(fitWithTwitter[x])\n",
    "        facebookWithoutTwitter1.append(fitWithoutTwitter[x])\n",
    "        facebookPos.append(pos[x])\n",
    "        facebookNeg.append(neg[x])\n",
    "        facebookTot.append(tot[x])\n",
    "    elif x%5 == 3:\n",
    "        googleWithTwitter.append(withTwitter[x])\n",
    "        googleWithoutTwitter.append(withoutTwitter[x])\n",
    "        googleWithTwitter1.append(fitWithTwitter[x])\n",
    "        googleWithoutTwitter1.append(fitWithoutTwitter[x])\n",
    "        googlePos.append(pos[x])\n",
    "        googleNeg.append(neg[x])\n",
    "        googleTot.append(tot[x])\n",
    "    elif x%5 == 4:\n",
    "        netflixWithTwitter.append(withTwitter[x])\n",
    "        netflixWithoutTwitter.append(withoutTwitter[x])\n",
    "        netflixWithTwitter1.append(fitWithTwitter[x])\n",
    "        netflixWithoutTwitter1.append(fitWithoutTwitter[x])\n",
    "        netflixPos.append(pos[x])\n",
    "        netflixNeg.append(neg[x])\n",
    "        netflixTot.append(tot[x])\n",
    "    x += 1"
   ]
  },
  {
   "cell_type": "code",
   "execution_count": 22,
   "metadata": {},
   "outputs": [
    {
     "name": "stdout",
     "output_type": "stream",
     "text": [
      "Amazon With Twitter Avg:  0.5022222222222222\n",
      "Apple With Twitter Avg:  0.47444444444444434\n",
      "Facebook With Twitter Avg:  0.536666666666667\n",
      "Google With Twitter Avg:  0.5000000000000001\n",
      "Netflix With Twitter Avg:  0.5277777777777777\n",
      "--------------------------\n",
      "Amazon Without Twitter Avg:  0.5055555555555553\n",
      "Apple Without Twitter Avg:  0.4433333333333331\n",
      "Facebook Without Twitter Avg:  0.5366666666666667\n",
      "Google Without Twitter Avg:  0.43111111111111106\n",
      "Netflix Without Twitter Avg:  0.5455555555555555\n",
      "\n",
      "Amazon With Twitter Fit:  0.9040000000000002\n",
      "Apple With Twitter Fit:  0.8990000000000004\n",
      "Facebook With Twitter Fit:  0.9050000000000002\n",
      "Google With Twitter Fit:  0.9030000000000004\n",
      "Netflix With Twitter Fit:  0.9035000000000002\n",
      "--------------------------\n",
      "Amazon Without Twitter Fit:  0.8990000000000008\n",
      "Apple Without Twitter Fit:  0.8755\n",
      "Facebook Without Twitter Fit:  0.8910000000000009\n",
      "Google Without Twitter Fit:  0.8739999999999999\n",
      "Netflix Without Twitter Fit:  0.9075000000000004\n",
      "\n",
      "Total:  0.3589326493288348\n"
     ]
    },
    {
     "data": {
      "image/png": "[encoded data removed]",
      "text/plain": [
       "<Figure size 432x288 with 1 Axes>"
      ]
     },
     "metadata": {
      "needs_background": "light"
     },
     "output_type": "display_data"
    },
    {
     "name": "stdout",
     "output_type": "stream",
     "text": [
      "Total:  0.44929290794572657\n"
     ]
    },
    {
     "data": {
      "image/png": "[encoded data removed]",
      "text/plain": [
       "<Figure size 432x288 with 1 Axes>"
      ]
     },
     "metadata": {
      "needs_background": "light"
     },
     "output_type": "display_data"
    },
    {
     "name": "stdout",
     "output_type": "stream",
     "text": [
      "Total:  0.4347675052206892\n"
     ]
    },
    {
     "data": {
      "image/png": "[encoded data removed]",
      "text/plain": [
       "<Figure size 432x288 with 1 Axes>"
      ]
     },
     "metadata": {
      "needs_background": "light"
     },
     "output_type": "display_data"
    },
    {
     "name": "stdout",
     "output_type": "stream",
     "text": [
      "Total:  0.45965813198215766\n"
     ]
    },
    {
     "data": {
      "image/png": "[encoded data removed]",
      "text/plain": [
       "<Figure size 432x288 with 1 Axes>"
      ]
     },
     "metadata": {
      "needs_background": "light"
     },
     "output_type": "display_data"
    },
    {
     "name": "stdout",
     "output_type": "stream",
     "text": [
      "Total:  0.3320021629686853\n"
     ]
    },
    {
     "data": {
      "image/png": "[encoded data removed]",
      "text/plain": [
       "<Figure size 432x288 with 1 Axes>"
      ]
     },
     "metadata": {
      "needs_background": "light"
     },
     "output_type": "display_data"
    }
   ],
   "source": [
    "print(\"Amazon With Twitter Avg: \", Average(amazonWithTwitter))\n",
    "print(\"Apple With Twitter Avg: \", Average(appleWithTwitter))\n",
    "print(\"Facebook With Twitter Avg: \", Average(facebookWithTwitter))\n",
    "print(\"Google With Twitter Avg: \", Average(googleWithTwitter))\n",
    "print(\"Netflix With Twitter Avg: \", Average(netflixWithTwitter))\n",
    "print('--------------------------')\n",
    "print(\"Amazon Without Twitter Avg: \", Average(amazonWithoutTwitter))\n",
    "print(\"Apple Without Twitter Avg: \", Average(appleWithoutTwitter))\n",
    "print(\"Facebook Without Twitter Avg: \", Average(facebookWithoutTwitter))\n",
    "print(\"Google Without Twitter Avg: \", Average(googleWithoutTwitter))\n",
    "print(\"Netflix Without Twitter Avg: \", Average(netflixWithoutTwitter))\n",
    "print()\n",
    "print(\"Amazon With Twitter Fit: \", Average(amazonWithTwitter1))\n",
    "print(\"Apple With Twitter Fit: \", Average(appleWithTwitter1))\n",
    "print(\"Facebook With Twitter Fit: \", Average(facebookWithTwitter1))\n",
    "print(\"Google With Twitter Fit: \", Average(googleWithTwitter1))\n",
    "print(\"Netflix With Twitter Fit: \", Average(netflixWithTwitter1))\n",
    "print('--------------------------')\n",
    "print(\"Amazon Without Twitter Fit: \", Average(amazonWithoutTwitter1))\n",
    "print(\"Apple Without Twitter Fit: \", Average(appleWithoutTwitter1))\n",
    "print(\"Facebook Without Twitter Fit: \", Average(facebookWithoutTwitter1))\n",
    "print(\"Google Without Twitter Fit: \", Average(googleWithoutTwitter1))\n",
    "print(\"Netflix Without Twitter Fit: \", Average(netflixWithoutTwitter1))\n",
    "print()\n",
    "\n",
    "print(\"Total: \", Average(amazonPos)+Average(amazonNeg)+Average(amazonTot))      \n",
    "sns.barplot(x=[Average(amazonPos),Average(amazonNeg),Average(amazonTot)],\n",
    "            y=[\"Positive\",\"Negative\",\"Total\"])\n",
    "plt.xlabel('Feature Importance Score for Amazon')\n",
    "plt.ylabel('Features')\n",
    "plt.title(\"Visualizing Important Features\")\n",
    "plt.show()\n",
    "\n",
    "print(\"Total: \", Average(applePos)+Average(appleNeg)+Average(appleTot))\n",
    "sns.barplot(x=[Average(applePos),Average(appleNeg),Average(appleTot)], \n",
    "            y=[\"Positive\",\"Negative\",\"Total\"])\n",
    "plt.xlabel('Feature Importance Score for Apple')\n",
    "plt.ylabel('Features')\n",
    "plt.title(\"Visualizing Important Features\")\n",
    "plt.show()\n",
    "\n",
    "print(\"Total: \", Average(facebookPos)+Average(facebookNeg)+Average(facebookTot))\n",
    "sns.barplot(x=[Average(facebookPos),Average(facebookNeg),Average(facebookTot)],\n",
    "            y=[\"Positive\",\"Negative\",\"Total\"])\n",
    "plt.xlabel('Feature Importance Score for Facebook')\n",
    "plt.ylabel('Features')\n",
    "plt.title(\"Visualizing Important Features\")\n",
    "plt.show()\n",
    "      \n",
    "print(\"Total: \", Average(googlePos)+Average(googleNeg)+Average(googleTot))\n",
    "sns.barplot(x=[Average(googlePos),Average(googleNeg),Average(googleTot)],\n",
    "            y=[\"Positive\",\"Negative\",\"Total\"])\n",
    "plt.xlabel('Feature Importance Score for Google')\n",
    "plt.ylabel('Features')\n",
    "plt.title(\"Visualizing Important Features\")\n",
    "plt.show()\n",
    "\n",
    "print(\"Total: \", Average(netflixPos)+Average(netflixNeg)+Average(netflixTot))      \n",
    "sns.barplot(x=[Average(netflixPos),Average(netflixNeg),Average(netflixTot)],\n",
    "            y=[\"Positive\",\"Negative\",\"Total\"])\n",
    "plt.xlabel('Feature Importance Score for Netflix')\n",
    "plt.ylabel('Features')\n",
    "plt.title(\"Visualizing Important Features\")\n",
    "plt.show()"
   ]
  },
  {
   "cell_type": "code",
   "execution_count": null,
   "metadata": {},
   "outputs": [],
   "source": []
  }
 ],
 "metadata": {
  "kernelspec": {
   "display_name": "Python 3",
   "language": "python",
   "name": "python3"
  },
  "language_info": {
   "codemirror_mode": {
    "name": "ipython",
    "version": 3
   },
   "file_extension": ".py",
   "mimetype": "text/x-python",
   "name": "python",
   "nbconvert_exporter": "python",
   "pygments_lexer": "ipython3",
   "version": "3.6.1"
  }
 },
 "nbformat": 4,
 "nbformat_minor": 2
}

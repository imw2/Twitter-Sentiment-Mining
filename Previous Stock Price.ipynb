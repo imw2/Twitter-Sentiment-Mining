{
 "cells": [
  {
   "cell_type": "code",
   "execution_count": null,
   "metadata": {},
   "outputs": [],
   "source": [
    "import requests\n",
    "import alpha_vantage\n",
    "import json\n",
    "\n",
    "#https://www.alphavantage.co/documentation/\n",
    "API_URL = \"https://www.alphavantage.co/query\" \n",
    "symbols = [\"SPY\"]\n",
    "\n",
    "for symbol in symbols:\n",
    "        data = { \"function\": \"TIME_SERIES_DAILY\", \n",
    "        \"symbol\": symbol,      \n",
    "        \"datatype\": \"json\", \n",
    "        \"apikey\": apiKey } \n",
    "        response = requests.get(API_URL, data) \n",
    "        data = response.json()\n",
    "        print(symbol)\n",
    "        print(data)"
   ]
  }
 ],
 "metadata": {
  "kernelspec": {
   "display_name": "Python 3",
   "language": "python",
   "name": "python3"
  },
  "language_info": {
   "codemirror_mode": {
    "name": "ipython",
    "version": 3
   },
   "file_extension": ".py",
   "mimetype": "text/x-python",
   "name": "python",
   "nbconvert_exporter": "python",
   "pygments_lexer": "ipython3",
   "version": "3.6.1"
  }
 },
 "nbformat": 4,
 "nbformat_minor": 2
}

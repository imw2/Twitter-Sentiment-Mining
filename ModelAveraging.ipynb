{
 "cells": [
  {
   "cell_type": "code",
   "execution_count": 19,
   "metadata": {},
   "outputs": [],
   "source": [
    "import pandas as pd\n",
    "from pandas import DataFrame\n",
    "import matplotlib.pyplot as plt\n",
    "from sklearn.model_selection import train_test_split\n",
    "from sklearn.preprocessing import StandardScaler\n",
    "from sklearn.ensemble import RandomForestClassifier\n",
    "from sklearn import metrics\n",
    "from sklearn.metrics import confusion_matrix\n",
    "import numpy as np"
   ]
  },
  {
   "cell_type": "code",
   "execution_count": 49,
   "metadata": {},
   "outputs": [
    {
     "data": {
      "image/png": "[encoded data removed]",
      "text/plain": [
       "<Figure size 432x288 with 1 Axes>"
      ]
     },
     "metadata": {
      "needs_background": "light"
     },
     "output_type": "display_data"
    }
   ],
   "source": [
    "stocks = [\"amazon\",\"apple\",\"facebook\",\"google\",\"netflix\"]\n",
    "\n",
    "withTwitter = []\n",
    "withoutTwitter = []\n",
    "\n",
    "state = 0\n",
    "while state < 100:\n",
    "    for stock in stocks:\n",
    "        Stock_Prediction = pd.read_csv('..\\\\faangStockTweets\\\\' + stock + '.csv')\n",
    "        Stock_Prediction = pd.DataFrame(Stock_Prediction).head(29)\n",
    "\n",
    "        ##############################WITH TWITTER DATA##############################################\n",
    "\n",
    "        X = Stock_Prediction.drop(['Stock_Date','Tweet_Date','change'],axis=1)\n",
    "        y = Stock_Prediction['change']\n",
    "        X_train, X_test, y_train, y_test = train_test_split(X, y, test_size=0.3,random_state=(state+10))\n",
    "\n",
    "\n",
    "\n",
    "        model = RandomForestClassifier(n_estimators = 4, criterion = 'entropy', random_state = state)\n",
    "        model.fit(X_train,y_train)\n",
    "        y_pred = model.predict(X_test)\n",
    "\n",
    "        cm = confusion_matrix(y_test, y_pred)\n",
    "        plt.clf()\n",
    "        plt.imshow(cm, interpolation='nearest', cmap=plt.cm.Wistia)\n",
    "        classNames = ['Decrease','Increase']\n",
    "        plt.title(stock + ' With Twitter Data')\n",
    "        plt.ylabel('True label')\n",
    "        plt.xlabel('Predicted label')\n",
    "        tick_marks = np.arange(len(classNames))\n",
    "        plt.xticks(tick_marks, classNames, rotation=45)\n",
    "        plt.yticks(tick_marks, classNames)\n",
    "        s = [['TN','FP'], ['FN', 'TP']]\n",
    "        for i in range(2):\n",
    "            for j in range(2):\n",
    "                plt.text(j,i, str(s[i][j])+\" = \"+str(cm[i][j]))\n",
    "        #plt.show()\n",
    "\n",
    "        #print(\"Model Score: \", model.score(X_train,y_train))\n",
    "        #print(\"Accuracy: \",metrics.accuracy_score(y_test,y_pred))\n",
    "        acc = float(metrics.accuracy_score(y_test,y_pred))\n",
    "        withTwitter.append(acc)\n",
    "        #print(y_test)\n",
    "        #print(y_pred)\n",
    "\n",
    "        feature_importances = pd.DataFrame(model.feature_importances_,\n",
    "                                       index = X_train.columns,\n",
    "                                        columns=['importance']).sort_values('importance', ascending=False)\n",
    "        #print(feature_importances)\n",
    "\n",
    "        #############################WITHOUT TWITTER DATA########################################\n",
    "\n",
    "        X = Stock_Prediction.drop(['Stock_Date','Tweet_Date','change','Positive',\n",
    "                                  'Negative','Total'],axis=1)\n",
    "        y = Stock_Prediction['change']\n",
    "        X_train, X_test, y_train, y_test = train_test_split(X, y, test_size=0.3,random_state=(state+10))\n",
    "\n",
    "        model = RandomForestClassifier(n_estimators = 4, criterion = 'entropy', random_state = state)\n",
    "        model.fit(X_train,y_train)\n",
    "        y_pred = model.predict(X_test)\n",
    "\n",
    "        cm = confusion_matrix(y_test, y_pred)\n",
    "        plt.clf()\n",
    "        plt.imshow(cm, interpolation='nearest', cmap=plt.cm.Wistia)\n",
    "        classNames = ['Decrease','Increase']\n",
    "        plt.title(stock + ' Without Twitter Data')\n",
    "        plt.ylabel('True label')\n",
    "        plt.xlabel('Predicted label')\n",
    "        tick_marks = np.arange(len(classNames))\n",
    "        plt.xticks(tick_marks, classNames, rotation=45)\n",
    "        plt.yticks(tick_marks, classNames)\n",
    "        s = [['TN','FP'], ['FN', 'TP']]\n",
    "        for i in range(2):\n",
    "            for j in range(2):\n",
    "                plt.text(j,i, str(s[i][j])+\" = \"+str(cm[i][j]))\n",
    "        #plt.show()\n",
    "\n",
    "        #print(\"Model Score: \", model.score(X_train,y_train))\n",
    "        #print(\"Accuracy: \",metrics.accuracy_score(y_test,y_pred))\n",
    "        acc = float(metrics.accuracy_score(y_test,y_pred))\n",
    "        withoutTwitter.append(acc)\n",
    "        #print(y_test)\n",
    "        #print(y_pred)\n",
    "\n",
    "        feature_importances = pd.DataFrame(model.feature_importances_,\n",
    "                                       index = X_train.columns,\n",
    "                                        columns=['importance']).sort_values('importance', ascending=False)\n",
    "        #print(feature_importances)\n",
    "    state += 1"
   ]
  },
  {
   "cell_type": "code",
   "execution_count": 50,
   "metadata": {},
   "outputs": [],
   "source": [
    "amazonWithTwitter = []\n",
    "appleWithTwitter = []\n",
    "facebookWithTwitter = []\n",
    "googleWithTwitter = []\n",
    "netflixWithTwitter = []\n",
    "\n",
    "amazonWithoutTwitter = []\n",
    "appleWithoutTwitter = []\n",
    "facebookWithoutTwitter = []\n",
    "googleWithoutTwitter = []\n",
    "netflixWithoutTwitter = []\n",
    "\n",
    "x = 0\n",
    "while x < len(withTwitter):\n",
    "    if x%5 == 0:\n",
    "        amazonWithTwitter.append(withTwitter[x])\n",
    "        amazonWithoutTwitter.append(withoutTwitter[x])\n",
    "    elif x%5 == 1:\n",
    "        appleWithTwitter.append(withTwitter[x])\n",
    "        appleWithoutTwitter.append(withoutTwitter[x])\n",
    "    elif x%5 == 2:\n",
    "        facebookWithTwitter.append(withTwitter[x])\n",
    "        facebookWithoutTwitter.append(withoutTwitter[x])\n",
    "    elif x%5 == 3:\n",
    "        googleWithTwitter.append(withTwitter[x])\n",
    "        googleWithoutTwitter.append(withoutTwitter[x])\n",
    "    elif x%5 == 4:\n",
    "        netflixWithTwitter.append(withTwitter[x])\n",
    "        netflixWithoutTwitter.append(withoutTwitter[x])\n",
    "    x += 1\n"
   ]
  },
  {
   "cell_type": "code",
   "execution_count": 51,
   "metadata": {},
   "outputs": [
    {
     "name": "stdout",
     "output_type": "stream",
     "text": [
      "Amazon With Twitter:  0.5022222222222222\n",
      "Apple With Twitter:  0.47444444444444434\n",
      "Facebook With Twitter:  0.536666666666667\n",
      "Google With Twitter:  0.5000000000000001\n",
      "Netflix With Twitter:  0.5277777777777777\n",
      "--------------------------\n",
      "Amazon Without Twitter:  0.5055555555555553\n",
      "Apple Without Twitter:  0.4433333333333331\n",
      "Facebook Without Twitter:  0.5366666666666667\n",
      "Google Without Twitter:  0.43111111111111106\n",
      "Netflix Without Twitter:  0.5455555555555555\n"
     ]
    }
   ],
   "source": [
    "print(\"Amazon With Twitter: \", Average(amazonWithTwitter))\n",
    "print(\"Apple With Twitter: \", Average(appleWithTwitter))\n",
    "print(\"Facebook With Twitter: \", Average(facebookWithTwitter))\n",
    "print(\"Google With Twitter: \", Average(googleWithTwitter))\n",
    "print(\"Netflix With Twitter: \", Average(netflixWithTwitter))\n",
    "print('--------------------------')\n",
    "print(\"Amazon Without Twitter: \", Average(amazonWithoutTwitter))\n",
    "print(\"Apple Without Twitter: \", Average(appleWithoutTwitter))\n",
    "print(\"Facebook Without Twitter: \", Average(facebookWithoutTwitter))\n",
    "print(\"Google Without Twitter: \", Average(googleWithoutTwitter))\n",
    "print(\"Netflix Without Twitter: \", Average(netflixWithoutTwitter))"
   ]
  },
  {
   "cell_type": "code",
   "execution_count": 15,
   "metadata": {},
   "outputs": [],
   "source": [
    "def Average(lst):\n",
    "    return sum(lst)/len(lst)"
   ]
  },
  {
   "cell_type": "code",
   "execution_count": null,
   "metadata": {},
   "outputs": [],
   "source": []
  }
 ],
 "metadata": {
  "kernelspec": {
   "display_name": "Python 3",
   "language": "python",
   "name": "python3"
  },
  "language_info": {
   "codemirror_mode": {
    "name": "ipython",
    "version": 3
   },
   "file_extension": ".py",
   "mimetype": "text/x-python",
   "name": "python",
   "nbconvert_exporter": "python",
   "pygments_lexer": "ipython3",
   "version": "3.7.0"
  }
 },
 "nbformat": 4,
 "nbformat_minor": 2
}

{
 "cells": [
  {
   "cell_type": "code",
   "execution_count": 67,
   "metadata": {},
   "outputs": [
    {
     "ename": "ModuleNotFoundError",
     "evalue": "No module named 'statsmodels'",
     "output_type": "error",
     "traceback": [
      "\u001b[1;31m---------------------------------------------------------------------------\u001b[0m",
      "\u001b[1;31mModuleNotFoundError\u001b[0m                       Traceback (most recent call last)",
      "\u001b[1;32m<ipython-input-67-e04bb5f03bf4>\u001b[0m in \u001b[0;36m<module>\u001b[1;34m\u001b[0m\n\u001b[0;32m      3\u001b[0m \u001b[1;32mimport\u001b[0m \u001b[0mmatplotlib\u001b[0m\u001b[1;33m.\u001b[0m\u001b[0mpyplot\u001b[0m \u001b[1;32mas\u001b[0m \u001b[0mplt\u001b[0m\u001b[1;33m\u001b[0m\u001b[0m\n\u001b[0;32m      4\u001b[0m \u001b[1;32mfrom\u001b[0m \u001b[0msklearn\u001b[0m \u001b[1;32mimport\u001b[0m \u001b[0mlinear_model\u001b[0m\u001b[1;33m\u001b[0m\u001b[0m\n\u001b[1;32m----> 5\u001b[1;33m \u001b[1;32mimport\u001b[0m \u001b[0mstatsmodels\u001b[0m\u001b[1;33m.\u001b[0m\u001b[0mapi\u001b[0m \u001b[1;32mas\u001b[0m \u001b[0msm\u001b[0m\u001b[1;33m\u001b[0m\u001b[0m\n\u001b[0m",
      "\u001b[1;31mModuleNotFoundError\u001b[0m: No module named 'statsmodels'"
     ]
    }
   ],
   "source": [
    "import pandas as pd\n",
    "from pandas import DataFrame\n",
    "import matplotlib.pyplot as plt\n",
    "from sklearn import linear_model"
   ]
  },
  {
   "cell_type": "code",
   "execution_count": 61,
   "metadata": {},
   "outputs": [],
   "source": [
    "Stock_Market = pd.read_csv('Daily\\\\2in1FB.csv',usecols=['Date','1. open',\n",
    "                                                         '2. high', '3. low',\n",
    "                                                         '4. close', '5. volume',\n",
    "                                                         'next_high','Positive','Negative',\n",
    "                                                         'Total'])\n",
    "\n",
    "df = pd.DataFrame(Stock_Market, columns=['Date','1. open',\n",
    "                                                         '2. high', '3. low',\n",
    "                                                         '4. close', '5. volume',\n",
    "                                                         'next_high','Positive','Negative',\n",
    "                                                         'Total']).head(29)\n"
   ]
  },
  {
   "cell_type": "code",
   "execution_count": 73,
   "metadata": {},
   "outputs": [
    {
     "data": {
      "image/png": "[encoded data removed]",
      "text/plain": [
       "<Figure size 432x288 with 1 Axes>"
      ]
     },
     "metadata": {
      "needs_background": "light"
     },
     "output_type": "display_data"
    }
   ],
   "source": [
    "plt.scatter(df['5. volume'], df['next_high'], color='red')\n",
    "plt.title('Positive Vs next_high', fontsize=14)\n",
    "plt.xlabel('Positive', fontsize=14)\n",
    "plt.ylabel('next_high', fontsize=14)\n",
    "plt.grid(True)\n",
    "plt.show()"
   ]
  },
  {
   "cell_type": "code",
   "execution_count": 68,
   "metadata": {},
   "outputs": [
    {
     "name": "stdout",
     "output_type": "stream",
     "text": [
      "Intercept: \n",
      " 2.086483613813698\n",
      "Coefficients: \n",
      " [-1.15707271e-01  8.33892820e-01 -8.33767120e-01  1.03403788e+00\n",
      " -5.28637141e-08  2.10235074e+01 -3.27220108e+00  3.99588030e-04]\n",
      "Predicted Stock Index Price: \n",
      " [142.27783594]\n",
      "LinearRegression(copy_X=True, fit_intercept=True, n_jobs=None,\n",
      "         normalize=False)\n"
     ]
    }
   ],
   "source": [
    "X = df[['1. open','2. high', '3. low','4. close', '5. volume','Positive','Negative','Total']]\n",
    "Y = df['next_high']\n",
    "\n",
    "# with sklearn\n",
    "regr = linear_model.LinearRegression()\n",
    "regr.fit(X, Y)\n",
    "\n",
    "print('Intercept: \\n', regr.intercept_)\n",
    "print('Coefficients: \\n', regr.coef_)\n",
    "\n",
    "\n",
    "# prediction with sklearn\n",
    "New_Open = 138.26\n",
    "New_High = 140.966\n",
    "New_Low = 137.36\n",
    "New_Close = 140.61\n",
    "New_Volume = 25732577\n",
    "New_Positive = .420961\n",
    "New_Negative = .125651\n",
    "New_Total = 1727\n",
    "\n",
    "print ('Predicted Stock Index Price: \\n', regr.predict([[New_Open,New_High,New_Low,\n",
    "                                                        New_Close,New_Volume,\n",
    "                                                        New_Positive,New_Negative,\n",
    "                                                        New_Total]]))\n",
    "\n",
    "\n",
    "print(regr)"
   ]
  },
  {
   "cell_type": "code",
   "execution_count": null,
   "metadata": {},
   "outputs": [],
   "source": []
  }
 ],
 "metadata": {
  "kernelspec": {
   "display_name": "Python 3",
   "language": "python",
   "name": "python3"
  },
  "language_info": {
   "codemirror_mode": {
    "name": "ipython",
    "version": 3
   },
   "file_extension": ".py",
   "mimetype": "text/x-python",
   "name": "python",
   "nbconvert_exporter": "python",
   "pygments_lexer": "ipython3",
   "version": "3.6.1"
  }
 },
 "nbformat": 4,
 "nbformat_minor": 2
}
